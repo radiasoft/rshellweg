{
 "cells": [
  {
   "cell_type": "code",
   "execution_count": 1,
   "id": "cd74b6f2-0b69-4b6e-8af8-9201290d8f7f",
   "metadata": {},
   "outputs": [],
   "source": [
    "import os\n",
    "from rshellweg.solver import BeamSolver\n",
    "\n",
    "cwd = os.getcwd()\n",
    "null_file = os.path.join(cwd, 'rshellweg.ini')\n",
    "input_file = os.path.join(cwd, 'test_01.txt')"
   ]
  },
  {
   "cell_type": "code",
   "execution_count": 2,
   "id": "cf880d7a-d566-4cd7-ae97-17339bcf9b67",
   "metadata": {},
   "outputs": [
    {
     "name": "stdout",
     "output_type": "stream",
     "text": [
      " \n",
      " Invoking the solver...\n"
     ]
    }
   ],
   "source": [
    "print(' ')\n",
    "print(' Invoking the solver...')\n",
    "solver = BeamSolver(null_file, input_file)\n",
    "solver.solve()"
   ]
  },
  {
   "cell_type": "code",
   "execution_count": null,
   "id": "8487a77c-8448-4087-8507-3ddf3aea6255",
   "metadata": {},
   "outputs": [],
   "source": []
  }
 ],
 "metadata": {
  "kernelspec": {
   "display_name": "Python 3",
   "language": "python",
   "name": "py3"
  },
  "language_info": {
   "codemirror_mode": {
    "name": "ipython",
    "version": 3
   },
   "file_extension": ".py",
   "mimetype": "text/x-python",
   "name": "python",
   "nbconvert_exporter": "python",
   "pygments_lexer": "ipython3",
   "version": "3.9.15"
  }
 },
 "nbformat": 4,
 "nbformat_minor": 5
}
